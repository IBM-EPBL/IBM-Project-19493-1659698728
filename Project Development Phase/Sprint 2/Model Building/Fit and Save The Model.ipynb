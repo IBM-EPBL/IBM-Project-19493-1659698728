{
 "cells": [
  {
   "cell_type": "markdown",
   "id": "b75ce3bb",
   "metadata": {},
   "source": [
    "# Image Preprocessing"
   ]
  },
  {
   "cell_type": "code",
   "execution_count": 1,
   "id": "12d3cbac",
   "metadata": {},
   "outputs": [],
   "source": [
    "from tensorflow.keras.preprocessing.image import ImageDataGenerator"
   ]
  },
  {
   "cell_type": "code",
   "execution_count": 2,
   "id": "6a70d203",
   "metadata": {},
   "outputs": [],
   "source": [
    "train_datagen=ImageDataGenerator(rescale=1./255,horizontal_flip=True,vertical_flip=True,zoom_range=0.2)"
   ]
  },
  {
   "cell_type": "code",
   "execution_count": 3,
   "id": "ac204a8f",
   "metadata": {},
   "outputs": [],
   "source": [
    "test_datagen=ImageDataGenerator(rescale=1./255)"
   ]
  },
  {
   "cell_type": "code",
   "execution_count": 4,
   "id": "eac9f799",
   "metadata": {},
   "outputs": [
    {
     "name": "stdout",
     "output_type": "stream",
     "text": [
      "Found 15750 images belonging to 9 classes.\n"
     ]
    }
   ],
   "source": [
    "x_train=train_datagen.flow_from_directory(r\"C:\\Users\\welcome\\Downloads\\conversation engine for deaf and dumb\\Dataset\\training_set\",target_size=(64,64),\n",
    "                                          class_mode=\"categorical\",batch_size=30)"
   ]
  },
  {
   "cell_type": "code",
   "execution_count": 5,
   "id": "96a995f4",
   "metadata": {},
   "outputs": [
    {
     "name": "stdout",
     "output_type": "stream",
     "text": [
      "Found 2250 images belonging to 9 classes.\n"
     ]
    }
   ],
   "source": [
    "x_test=test_datagen.flow_from_directory(r\"C:\\Users\\welcome\\Downloads\\conversation engine for deaf and dumb\\Dataset\\test_set\",target_size=(64,64),\n",
    "                                                            class_mode=\"categorical\",batch_size=30)"
   ]
  },
  {
   "cell_type": "markdown",
   "id": "5685d48c",
   "metadata": {},
   "source": [
    "# Model Building"
   ]
  },
  {
   "cell_type": "code",
   "execution_count": 33,
   "id": "ba45ad82",
   "metadata": {},
   "outputs": [],
   "source": [
    "from keras.models import Sequential \n",
    "from keras.layers import Dense\n",
    "from keras.layers import Convolution2D\n",
    "from keras.layers import MaxPooling2D\n",
    "from keras.layers import Dropout\n",
    "from keras.layers import Flatten"
   ]
  },
  {
   "cell_type": "code",
   "execution_count": 34,
   "id": "430c9d1e",
   "metadata": {},
   "outputs": [],
   "source": [
    "model=Sequential()"
   ]
  },
  {
   "cell_type": "code",
   "execution_count": 35,
   "id": "20ffc3d4",
   "metadata": {},
   "outputs": [],
   "source": [
    "model.add(Convolution2D(32,(3,3),activation=\"relu\",input_shape=(64,64,3)))\n",
    "#No of feature detectors, size of feature detector, image size, activation function"
   ]
  },
  {
   "cell_type": "markdown",
   "id": "dcfcee8c",
   "metadata": {},
   "source": [
    "**add the Pooling Layer**"
   ]
  },
  {
   "cell_type": "code",
   "execution_count": 37,
   "id": "d99750d7",
   "metadata": {},
   "outputs": [],
   "source": [
    "model.add(MaxPooling2D(pool_size=(2,2)))\n"
   ]
  },
  {
   "cell_type": "markdown",
   "id": "01b2a936",
   "metadata": {},
   "source": [
    "**Adding the flatten Layer**"
   ]
  },
  {
   "cell_type": "code",
   "execution_count": 39,
   "id": "97d331a6",
   "metadata": {},
   "outputs": [],
   "source": [
    "model.add(Flatten())"
   ]
  },
  {
   "cell_type": "markdown",
   "id": "dac75859",
   "metadata": {},
   "source": [
    "**Adding the Dense Layer**"
   ]
  },
  {
   "cell_type": "code",
   "execution_count": 41,
   "id": "0a938206",
   "metadata": {},
   "outputs": [],
   "source": [
    "model.add(Dense(200,activation='relu'))\n"
   ]
  },
  {
   "cell_type": "code",
   "execution_count": 42,
   "id": "c5ac5ffc",
   "metadata": {},
   "outputs": [],
   "source": [
    "model.add(Dense(200,activation='relu'))"
   ]
  },
  {
   "cell_type": "code",
   "execution_count": 43,
   "id": "234c78de",
   "metadata": {},
   "outputs": [],
   "source": [
    "model.add(Dense(9,activation=\"softmax\"))"
   ]
  },
  {
   "cell_type": "markdown",
   "id": "c2098617",
   "metadata": {},
   "source": [
    "**Compile the model**"
   ]
  },
  {
   "cell_type": "code",
   "execution_count": 45,
   "id": "f46945f7",
   "metadata": {},
   "outputs": [],
   "source": [
    "model.compile(loss=\"categorical_crossentropy\",metrics=[\"accuracy\"],optimizer='adam')"
   ]
  },
  {
   "cell_type": "code",
   "execution_count": 46,
   "id": "ab99c423",
   "metadata": {},
   "outputs": [
    {
     "data": {
      "text/plain": [
       "525"
      ]
     },
     "execution_count": 46,
     "metadata": {},
     "output_type": "execute_result"
    }
   ],
   "source": [
    "len(x_train)"
   ]
  },
  {
   "cell_type": "code",
   "execution_count": 47,
   "id": "0914670b",
   "metadata": {},
   "outputs": [
    {
     "data": {
      "text/plain": [
       "75"
      ]
     },
     "execution_count": 47,
     "metadata": {},
     "output_type": "execute_result"
    }
   ],
   "source": [
    "len(x_test)"
   ]
  },
  {
   "cell_type": "markdown",
   "id": "27923e96",
   "metadata": {},
   "source": [
    "**Fit and Save the Model**"
   ]
  },
  {
   "cell_type": "code",
   "execution_count": 49,
   "id": "45a57739",
   "metadata": {},
   "outputs": [
    {
     "name": "stdout",
     "output_type": "stream",
     "text": [
      "Epoch 1/9\n",
      "525/525 [==============================] - 51s 96ms/step - loss: 0.3128 - accuracy: 0.8926 - val_loss: 0.3089 - val_accuracy: 0.9387\n",
      "Epoch 2/9\n",
      "525/525 [==============================] - 52s 99ms/step - loss: 0.0660 - accuracy: 0.9780 - val_loss: 0.1937 - val_accuracy: 0.9711\n",
      "Epoch 3/9\n",
      "525/525 [==============================] - 52s 99ms/step - loss: 0.0434 - accuracy: 0.9851 - val_loss: 0.2180 - val_accuracy: 0.9742\n",
      "Epoch 4/9\n",
      "525/525 [==============================] - 50s 94ms/step - loss: 0.0278 - accuracy: 0.9903 - val_loss: 0.2731 - val_accuracy: 0.9742\n",
      "Epoch 5/9\n",
      "525/525 [==============================] - 52s 98ms/step - loss: 0.0226 - accuracy: 0.9926 - val_loss: 0.3239 - val_accuracy: 0.9382\n",
      "Epoch 6/9\n",
      "525/525 [==============================] - 53s 101ms/step - loss: 0.0232 - accuracy: 0.9930 - val_loss: 0.3346 - val_accuracy: 0.9751\n",
      "Epoch 7/9\n",
      "525/525 [==============================] - 52s 98ms/step - loss: 0.0178 - accuracy: 0.9945 - val_loss: 0.2066 - val_accuracy: 0.9778\n",
      "Epoch 8/9\n",
      "525/525 [==============================] - 54s 102ms/step - loss: 0.0169 - accuracy: 0.9939 - val_loss: 0.2427 - val_accuracy: 0.9778\n",
      "Epoch 9/9\n",
      "525/525 [==============================] - 53s 100ms/step - loss: 0.0126 - accuracy: 0.9955 - val_loss: 0.2951 - val_accuracy: 0.9796\n"
     ]
    },
    {
     "data": {
      "text/plain": [
       "<keras.callbacks.History at 0x149c8a1fa00>"
      ]
     },
     "execution_count": 49,
     "metadata": {},
     "output_type": "execute_result"
    }
   ],
   "source": [
    "model.fit(x_train,epochs=9,validation_data=x_test,steps_per_epoch=len(x_train),validation_steps=len(x_test))"
   ]
  },
  {
   "cell_type": "code",
   "execution_count": 50,
   "id": "3b177073",
   "metadata": {},
   "outputs": [],
   "source": [
    "model.save(\"signlanguage-new.h5\")"
   ]
  }
 ],
 "metadata": {
  "kernelspec": {
   "display_name": "Python 3 (ipykernel)",
   "language": "python",
   "name": "python3"
  },
  "language_info": {
   "codemirror_mode": {
    "name": "ipython",
    "version": 3
   },
   "file_extension": ".py",
   "mimetype": "text/x-python",
   "name": "python",
   "nbconvert_exporter": "python",
   "pygments_lexer": "ipython3",
   "version": "3.9.12"
  },
  "widgets": {
   "application/vnd.jupyter.widget-state+json": {
    "state": {},
    "version_major": 2,
    "version_minor": 0
   }
  }
 },
 "nbformat": 4,
 "nbformat_minor": 5
}
